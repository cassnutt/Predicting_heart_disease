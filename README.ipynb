{
 "cells": [
  {
   "cell_type": "markdown",
   "metadata": {},
   "source": [
    "# Predicting Cardiovascular Disease\n",
    "___\n",
    "By: Cassie Nutter\n"
   ]
  },
  {
   "cell_type": "markdown",
   "metadata": {},
   "source": [
    "# Description\n",
    "---\n",
    "This project looks at predicting whether a person has cardiovascular disease or not using classification. I utilized and compared multiple different models to find the best find the one that is able to achieve the best results while minimizing false negatives."
   ]
  },
  {
   "cell_type": "markdown",
   "metadata": {},
   "source": [
    "# Background about Cardiovascular Disease\n",
    "---\n",
    "Cardiovascular disease, also called heart disease, is a class of diseases that involve the heart or blood vessels. Cardiovascular disease (CVD) includes:\n",
    "\n",
    "* Atherosclerosis (plaque build up in walls of arteries)\n",
    "* Myocardial infarction (heart attack)\n",
    "* Stroke\n",
    "* Heart failure\n",
    "* Arrhythmia (abnormal heart rhythm)\n",
    "* Heart valve problems (valves not opening or closing enough)\n",
    "\n",
    "[Source: American Heart Association](https://www.heart.org/en/health-topics/consumer-healthcare/what-is-cardiovascular-disease)"
   ]
  },
  {
   "cell_type": "markdown",
   "metadata": {},
   "source": [
    "# Data Used\n",
    "---\n",
    "The data used for this project was obtained from [Kaggle](https://www.kaggle.com/sulianova/cardiovascular-disease-dataset), but can also be accessed in the data folder.\n",
    "\n",
    "The data contains 12 features and 1 target feature. Six features are continuous and six are categorical. It is a larger dataset with 70,000 entries. The target variable is balanced - almost exactly 50/50.\n",
    "\n",
    "Feature descriptions are as follows:\n",
    "1. ID number\n",
    "2. Age |(days)\n",
    "3. Height |(cm) \n",
    "4. Weight |(kg)\n",
    "5. Gender \n",
    "6. Systolic blood pressure \n",
    "7. Diastolic blood pressure\n",
    "8. Cholesterol\n",
    "9. Glucose\n",
    "10. Smoking\n",
    "11. Alcohol intake\n",
    "12. Physical activity\n",
    "13. Presence or absence of cardiovascular disease | Target Variable \n"
   ]
  },
  {
   "cell_type": "markdown",
   "metadata": {},
   "source": [
    "# Data Cleaning\n",
    "---\n",
    "Data was scrubbed by:\n",
    "* checking for null values and duplicates\n",
    "* dropping ID's\n",
    "* changing age from days to years\n",
    "* removing suspicious data\n",
    "    * heights and weights that seemed too high or too low\n",
    "    * systolic or diastolic pressure readings that were negative, unusually low, or diastolic was lower than systolic\n",
    "* changed columns names\n",
    "\n",
    "Scrubbing data removed 1,488 data points from original 70,000.\n",
    "Target variable was checked again to see that cleaning did not drastically alter class balance. Ratio for target feature was still 50/50."
   ]
  },
  {
   "cell_type": "markdown",
   "metadata": {},
   "source": [
    "# Data Exploration\n",
    "---\n",
    "Different features were examined to determine if any had an individual correlation to cardiovascular disease.\n",
    "\n",
    "First, a feature was created to look at body mass index. Body mass index (BMI) is a measure of body fat based on height and weight that applies to adult men and women.\n",
    "\n",
    "Using height and weight, I was able to create a BMI column and see that individuals diagnosed with cardiovascular disease do have higher BMI's than those that do not have cardiovascular disease. \n",
    "\n",
    "![BMI_boxplot](images/BMI_boxplot.png)\n",
    "\n",
    "---\n",
    "Next, I looked at blood pressure. Blood pressure is the pressure of circulating blood against the walls of blood vessels. Most of this pressure results from the heart pumping blood through the circulatory system. The American Heart Association categorizes blood pressures by the systolic and diastolic measurements that are taken. \n",
    "\n",
    "![AHA hypertension](images/BP_chart.jpg)\n",
    "\n",
    "Using the systolic and diastolic data to create the same categories, it appeared that patients with blood pressures in the \"High Blood Pressure (Hypertension) Stage 2\" category were most as risk of being diagnosed with CVD. Individuals with extremely high blood pressure (categorized as \"Hypertensive Crisis\" were also severely at risk of having CVD.\n",
    "\n",
    "![BP_chart](images/BPs.png)\n",
    "\n",
    "---\n",
    "After that, I looked at age. I grouped ages into decades to see if there was a pattern. Younger individuals (in 30's and 40's) had a decreased risk of being diagnosed with cardiovascular disease. However, once in the 50's and 60's, one was more likely to be diagnosed with CVD and being in your 60's doubles the risk.\n",
    "\n",
    "I also looked at ages and weight. The 30's had the smallest range of weights. The other ages were fairly similar, though it was clear that as one aged, being lighter in weight did not prevent them from being diagnosed with CVD.\n",
    "\n",
    "![Age_vs_weight](images/age_weight.png)\n",
    "\n",
    "---\n",
    "Not only did this study have a balanced amount of people with and without the disease, gender had fairly equal amounts of those with and without CVD. However, it is important to note that the proportion of men and women was not balanced, having almost two-thirds of the data being women, and a little over one-third of the data as men. This data shows that one gender is not more at risk than the other.\n",
    "\n",
    "---\n",
    "In this data cholesterol was ranked as 1: Normal, 2: Above normal, or 3: Well above normal A quick check found that individuals with above normal or well above normal levels of cholesterol were at an increased risk of having CVD. In face, 76% of those that had well above normal cholesterol as had cardiovascular disease.\n",
    "\n",
    "![Cholesterol_risk](images/cholest_risk.png)\n",
    "\n",
    "---\n",
    "Other quick checks included: \n",
    "* Activity\n",
    "    * Those with the disease have higher BMI's than those without the disease, regardless if they said they were active or not\n",
    "    \n",
    "![activity_BMI](images/active_boxen.png)\n",
    "* Glucose\n",
    "    * Those with glucose levels \"Above normal\" or \"Well above normal\" were diagnosed with CVD more often\n",
    "* Drinking alcohol and smoking\n",
    "    * Of those that said they drink and smoke, only 44% were diagnosed with CVD\n",
    "    * Since this part of the data is subjective, it is not as conclusive"
   ]
  },
  {
   "cell_type": "markdown",
   "metadata": {},
   "source": [
    "# Modeling\n",
    "---\n",
    "Again, the target feature here was whether an individual has cardiovascular disease or not.\n",
    "The data was split into training and testing data and the training data was scaled using Standard Scaler.\n",
    "\n",
    "The first models were built without any hyperparameter tuning. These models include:\n",
    "* Logistic Regression\n",
    "* Random Forest\n",
    "* Support Vector Machines\n",
    "* K-Nearest Neighbor\n",
    "* Decision Tree\n",
    "* XGBoost\n",
    "\n",
    "The models were run and their results saved into a DataFrame.\n",
    "\n",
    "Then each model was tuned using hyperparameters to see if the accuracy, F1 score, and false negatives could be improved. That data would be again saved into a DataFrame to compare all models.\n",
    "A function was used to calculate the results after each model and save those results to the DataFrame. The function also displayed the classification report and a confusion matrix for the model.\n",
    "\n",
    "\n",
    "![classification_report](images/class_report.png)\n",
    "![confusion_matrix](images/conf_matrix.png)\n",
    "\n",
    "Randomized Search and Grid Search were both used to check parameters and try to establish the best ones."
   ]
  },
  {
   "cell_type": "markdown",
   "metadata": {},
   "source": [
    "# Interpretation\n",
    "---\n",
    "![results](images/results.png)\n",
    "\n",
    "Results show that all of the tuned models performed better than their untuned counterparts when looking at F1 score, false negatives and true positives. Some of the tuned models accuracy decreased, but only slightly (approx. 2%) In addition, ROC curves were plotted for the tuned models. \n",
    "\n",
    "![test_accuracies](images/test_acc.png)\n",
    "![ROC_curves](images/roc_curve.png)"
   ]
  },
  {
   "cell_type": "markdown",
   "metadata": {},
   "source": [
    "**Conclusion**\n",
    "\n",
    "Judging by the highest F1 score, lowest number of false negative, highest number of true positives and greatest area under the curve (AUC) - the tuned XGBoost model performed the best. \n",
    "![feature_importances](images/feat_imp.png)\n",
    "\n",
    "Looking at the winning model - Randomized Search XGBoost - I evaluated the important features. By far, the most important feature was the systolic reading in blood pressure. Having a cholesterol \"well above normal\" and age were the next largest important features. \n",
    "\n",
    "When looking at the subjective features, activity was the most important feature followed by smoking then drinking alcohol.\n",
    "\n",
    "These features indicated that when faced with a patient who has a high systolic reading, very elevated cholesterol levels, and is older, it would be prudent to run further tests and check for cardiovascular diseases.\n",
    "\n",
    "It would also be important to coach these patients about a need to increase activity, improve diet, and decrease or stop smoking and drinking alcohol. A follow up should be done to check blood pressure and cholesterol levels again and consider prescribing a statin drug that would decrease cholesterol levels."
   ]
  },
  {
   "cell_type": "markdown",
   "metadata": {},
   "source": [
    "# Future Work\n",
    "---\n",
    "In an ideal world, cholesterol and glucose would have been numerical results rather than categorical and the subjective features would have more context. Taking it one step further, cholesterol could have been separated in HDL and LDL and instead of glucose, measure A1C. \n",
    "\n",
    "Having knowledge about potential comorbidities - [like diabetes, COPD, and anxiety/depression](https://www.nap.edu/read/12940/chapter/18) would also be insightful and maybe help the model predictions.\n",
    "\n",
    "\n",
    "Studies have proven there is [a link between cardiovascular disease and periodontal disease (gum disease)](https://www.health.harvard.edu/heart-health/gum-disease-and-heart-disease-the-common-thread#:~:text=Known%20as%20atherosclerosis%2C%20this%20fatty,not%20be%20a%20direct%20connection.). Adding data if the person has periodontal disease or not would be useful.\n",
    "\n",
    "It would also be interesting if this set had data on the different regions, races, and socioeconomic levels from the individuals of this study as lack of access to care and implicit bias have shown to be dangerous to long-term health."
   ]
  }
 ],
 "metadata": {
  "kernelspec": {
   "display_name": "Python 3 (ipykernel)",
   "language": "python",
   "name": "python3"
  },
  "language_info": {
   "codemirror_mode": {
    "name": "ipython",
    "version": 3
   },
   "file_extension": ".py",
   "mimetype": "text/x-python",
   "name": "python",
   "nbconvert_exporter": "python",
   "pygments_lexer": "ipython3",
   "version": "3.12.7"
  },
  "toc": {
   "base_numbering": 1,
   "nav_menu": {},
   "number_sections": true,
   "sideBar": true,
   "skip_h1_title": true,
   "title_cell": "Table of Contents",
   "title_sidebar": "Contents",
   "toc_cell": false,
   "toc_position": {},
   "toc_section_display": true,
   "toc_window_display": false
  },
  "varInspector": {
   "cols": {
    "lenName": 16,
    "lenType": 16,
    "lenVar": 40
   },
   "kernels_config": {
    "python": {
     "delete_cmd_postfix": "",
     "delete_cmd_prefix": "del ",
     "library": "var_list.py",
     "varRefreshCmd": "print(var_dic_list())"
    },
    "r": {
     "delete_cmd_postfix": ") ",
     "delete_cmd_prefix": "rm(",
     "library": "var_list.r",
     "varRefreshCmd": "cat(var_dic_list()) "
    }
   },
   "types_to_exclude": [
    "module",
    "function",
    "builtin_function_or_method",
    "instance",
    "_Feature"
   ],
   "window_display": false
  }
 },
 "nbformat": 4,
 "nbformat_minor": 4
}
